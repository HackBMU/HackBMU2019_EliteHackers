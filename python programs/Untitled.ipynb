{
 "cells": [
  {
   "cell_type": "code",
   "execution_count": 6,
   "metadata": {
    "collapsed": false
   },
   "outputs": [],
   "source": [
    "import requests\n",
    "import cv2\n",
    "import numpy as np\n",
    "\n",
    "url=\"http://10.7.1.221:8080/shot.jpg\"\n",
    "\n",
    "while True:\n",
    "    img_resp=requests.get(url)\n",
    "    img_arr=np.array(bytearray(img_resp.content),dtype=np.uint8)\n",
    "    cap=cv2.imdecode(img_arr,-1)\n",
    "    \n",
    "    cv2.imshow(\"AndroidCam\",cap)\n",
    "    \n",
    "    if cv2.waitKey(1)==27:\n",
    "        break"
   ]
  },
  {
   "cell_type": "code",
   "execution_count": null,
   "metadata": {
    "collapsed": true
   },
   "outputs": [],
   "source": []
  }
 ],
 "metadata": {
  "kernelspec": {
   "display_name": "Python 3",
   "language": "python",
   "name": "python3"
  },
  "language_info": {
   "codemirror_mode": {
    "name": "ipython",
    "version": 3
   },
   "file_extension": ".py",
   "mimetype": "text/x-python",
   "name": "python",
   "nbconvert_exporter": "python",
   "pygments_lexer": "ipython3",
   "version": "3.6.0"
  }
 },
 "nbformat": 4,
 "nbformat_minor": 2
}
