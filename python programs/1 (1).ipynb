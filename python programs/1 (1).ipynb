{
 "cells": [
  {
   "cell_type": "code",
   "execution_count": 25,
   "metadata": {
    "collapsed": false
   },
   "outputs": [],
   "source": [
    "import cv2\n",
    "import numpy as np\n",
    "\n",
    "#load input image and convert grayscale\n",
    "image=cv2.imread('images/WaldoBeach.jpg')\n",
    "cv2.imshow('where is waldo',image)\n",
    "cv2.waitKey(0)\n",
    "\n",
    "gray=cv2.cvtColor(image,cv2.COLOR_BGR2GRAY)\n",
    "\n",
    "#load the template image\n",
    "template=cv2.imread('images/waldo.jpg',0)\n",
    "\n",
    "\n",
    "result=cv2.matchTemplate(gray,template,cv2.TM_CCOEFF)\n",
    "min_val,max_val,min_loc,max_loc=cv2.minMaxLoc(result)\n",
    "\n",
    "#creating boundary box\n",
    "top_left=max_loc\n",
    "bottom_right=(top_left[0]+50,top_left[1]+50)\n",
    "cv2.rectangle(image,top_left,bottom_right,(0,0,255),5)\n",
    "\n",
    "cv2.imshow('where is waldo',image)\n",
    "cv2.waitKey()\n",
    "cv2.destroyAllWindows()"
   ]
  },
  {
   "cell_type": "code",
   "execution_count": 32,
   "metadata": {
    "collapsed": false
   },
   "outputs": [],
   "source": [
    "import cv2\n",
    "import numpy as np\n",
    "\n",
    "#load input image and convert grayscale\n",
    "image=cv2.imread('images/maps_troy.jpg')\n",
    "cv2.imshow('where is waldo',image)\n",
    "cv2.waitKey(0)\n",
    "\n",
    "gray=cv2.cvtColor(image,cv2.COLOR_BGR2GRAY)\n",
    "\n",
    "#load the template image\n",
    "template=cv2.imread('images/waldo.jpg',0)\n",
    "\n",
    "\n",
    "result=cv2.matchTemplate(gray,template,cv2.TM_SQDIFF)\n",
    "min_val,max_val,min_loc,max_loc=cv2.minMaxLoc(result)\n",
    "\n",
    "#creating boundary box\n",
    "top_left=max_loc\n",
    "bottom_right=(top_left[0]+50,top_left[1]+50)\n",
    "cv2.rectangle(image,top_left,bottom_right,(0,0,255),5)\n",
    "\n",
    "cv2.imshow('where is waldo',image)\n",
    "cv2.waitKey()\n",
    "cv2.destroyAllWindows()"
   ]
  },
  {
   "cell_type": "code",
   "execution_count": 36,
   "metadata": {
    "collapsed": false
   },
   "outputs": [],
   "source": [
    "import cv2\n",
    "import numpy as np\n",
    "\n",
    "#load input image and convert grayscale\n",
    "image=cv2.imread('images/wheres-waldo.jpg')\n",
    "cv2.imshow('where is waldo',image)\n",
    "cv2.waitKey(0)\n",
    "\n",
    "gray=cv2.cvtColor(image,cv2.COLOR_BGR2GRAY)\n",
    "\n",
    "#load the template image\n",
    "template=cv2.imread('images/waldo.jpg',0)\n",
    "\n",
    "r=100.0/template.shape[1]\n",
    "dim=(100,int(template.shape[0]*r))\n",
    "\n",
    "res=cv2.resize(template,dim,interpolation=cv2.INTER_AREA)\n",
    "\n",
    "#result.create( result_rows, result_cols, CV_32FC1 );\n",
    "result=cv2.matchTemplate(gray,res,cv2.TM_SQDIFF_NORMED)    \n",
    "min_val,max_val,min_loc,max_loc=cv2.minMaxLoc(result)\n",
    "\n",
    "#creating boundary box\n",
    "top_left=max_loc\n",
    "bottom_right=(top_left[0]+50,top_left[1]+50)\n",
    "cv2.rectangle(image,top_left,bottom_right,(0,0,255),5)\n",
    "\n",
    "cv2.imshow('where is waldo',image)\n",
    "cv2.waitKey()\n",
    "cv2.destroyAllWindows()"
   ]
  },
  {
   "cell_type": "code",
   "execution_count": null,
   "metadata": {
    "collapsed": true
   },
   "outputs": [],
   "source": []
  }
 ],
 "metadata": {
  "kernelspec": {
   "display_name": "Python 3",
   "language": "python",
   "name": "python3"
  },
  "language_info": {
   "codemirror_mode": {
    "name": "ipython",
    "version": 3
   },
   "file_extension": ".py",
   "mimetype": "text/x-python",
   "name": "python",
   "nbconvert_exporter": "python",
   "pygments_lexer": "ipython3",
   "version": "3.6.0"
  }
 },
 "nbformat": 4,
 "nbformat_minor": 2
}
