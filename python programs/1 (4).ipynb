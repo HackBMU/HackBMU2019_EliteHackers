{
 "cells": [
  {
   "cell_type": "code",
   "execution_count": 1,
   "metadata": {
    "collapsed": false
   },
   "outputs": [],
   "source": [
    "\n",
    "import cv2\n",
    "import numpy as np\n",
    "\n",
    "#CascadeClassifier function is pointed where classifier(XML is stored)\n",
    "face_classifier=cv2.CascadeClassifier('Haarcascades/haarcascade_frontalface_default.xml')\n",
    "\n",
    "\n",
    "#load image and then convert into gray scale\n",
    "image=cv2.imread('images/Trump.jpg')\n",
    "\n",
    "cv2.imshow('Trump',image)\n",
    "cv2.waitKey(0)\n",
    "gray_img=cv2.cvtColor(image,cv2.COLOR_BGR2GRAY)\n",
    "\n",
    "\"\"\"\n",
    "the classifier returns the ROI (Region Of Interest) of the detected face as a tuple.\n",
    "It stores the top left coordinate and bottom right coordinate\n",
    "\"\"\"\n",
    "faces=face_classifier.detectMultiScale(gray_img,1.3,5)\n",
    "\n",
    "#when no faces detected , face_Classifier returns an empty tuple\n",
    "\n",
    "if faces is():\n",
    "    print(\"No faces found\")\n",
    "    \n",
    "    #iterate through faces detected and draw the rectangle\n",
    "    \n",
    "for(x,y,w,h) in faces:\n",
    "    cv2.rectangle(image,(x,y),(x+w , y+h),(127,0,255),2)\n",
    "    cv2.imshow('Face Detection',image)\n",
    "    cv2.waitKey()\n",
    "    \n",
    "    \n",
    "cv2.destroyAllWindows()\n",
    "\n",
    "\n",
    "\n",
    "    \n",
    "\n",
    "\n",
    "\n"
   ]
  },
  {
   "cell_type": "code",
   "execution_count": null,
   "metadata": {
    "collapsed": true
   },
   "outputs": [],
   "source": []
  }
 ],
 "metadata": {
  "kernelspec": {
   "display_name": "Python 3",
   "language": "python",
   "name": "python3"
  },
  "language_info": {
   "codemirror_mode": {
    "name": "ipython",
    "version": 3
   },
   "file_extension": ".py",
   "mimetype": "text/x-python",
   "name": "python",
   "nbconvert_exporter": "python",
   "pygments_lexer": "ipython3",
   "version": "3.6.0"
  }
 },
 "nbformat": 4,
 "nbformat_minor": 2
}
