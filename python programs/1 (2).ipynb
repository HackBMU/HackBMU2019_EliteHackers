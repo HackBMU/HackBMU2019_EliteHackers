{
 "cells": [
  {
   "cell_type": "markdown",
   "metadata": {},
   "source": [
    "## mini project #1-Live sketch using webcam"
   ]
  },
  {
   "cell_type": "code",
   "execution_count": null,
   "metadata": {
    "collapsed": false
   },
   "outputs": [],
   "source": [
    "import cv2\n",
    "import numpy as np\n",
    "\n",
    "#function to generate  sketch\n",
    "def sketch(image):\n",
    "    #convert image to gray scale\n",
    "    img_gray=cv2.cvtColor(image,cv2.COLOR_BGR2GRAY)\n",
    "    \n",
    "    #clean up image using gaussian blur\n",
    "    img_gray_blur=cv2.GaussianBlur(img_gray,(5,5),0)\n",
    "    \n",
    "    #extract edges\n",
    "    canny_edges=cv2.Canny(img_gray_blur,0,70)\n",
    "    \n",
    "    #binarize the image\n",
    "    ret,mask=cv2.threshold(canny_edges,70,255,cv2.THRESH_BINARY_INV)\n",
    "    #ret,mask=cv2.threshold(canny_edges,70,255,cv2.THRESH_BINARY_INV)\n",
    "    return mask\n",
    "\n",
    "    \n",
    "cap=cv2.VideoCapture(0)\n",
    "\n",
    "while True:\n",
    "    ret,frame=cap.read()\n",
    "    cv2.imshow('my live sketch',sketch(frame))\n",
    "    if cv2.waitKey(1)==13:                             #13 is enter key\n",
    "        break\n",
    "        \n",
    "#release the camera and close window\n",
    "cap.release()\n",
    "cv2.destroyAllWindows()\n",
    "    "
   ]
  },
  {
   "cell_type": "code",
   "execution_count": null,
   "metadata": {
    "collapsed": true
   },
   "outputs": [],
   "source": []
  },
  {
   "cell_type": "code",
   "execution_count": null,
   "metadata": {
    "collapsed": true
   },
   "outputs": [],
   "source": []
  }
 ],
 "metadata": {
  "kernelspec": {
   "display_name": "Python 3",
   "language": "python",
   "name": "python3"
  },
  "language_info": {
   "codemirror_mode": {
    "name": "ipython",
    "version": 3
   },
   "file_extension": ".py",
   "mimetype": "text/x-python",
   "name": "python",
   "nbconvert_exporter": "python",
   "pygments_lexer": "ipython3",
   "version": "3.6.0"
  }
 },
 "nbformat": 4,
 "nbformat_minor": 2
}
